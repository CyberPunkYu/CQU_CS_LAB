{
 "cells": [
  {
   "cell_type": "markdown",
   "metadata": {},
   "source": [
    "**Basic Function Implement**"
   ]
  },
  {
   "cell_type": "code",
   "execution_count": 1,
   "metadata": {},
   "outputs": [],
   "source": [
    "# 计算密文字频\n",
    "def calculate_frequency(text):\n",
    "    frequency = {}\n",
    "    total_chars = 0\n",
    "\n",
    "    for char in text:\n",
    "        if char.isalpha():\n",
    "            char = char.upper()\n",
    "            frequency[char] = frequency.get(char, 0) + 1\n",
    "            total_chars += 1\n",
    "\n",
    "    for char in frequency:\n",
    "        frequency[char] = frequency[char] / total_chars\n",
    "\n",
    "    return frequency\n",
    "\n",
    "# 字频打印\n",
    "def print_frequency(frequency):\n",
    "    sorted_frequency = sorted(frequency.items(), key=lambda x: x[1], reverse=True)\n",
    "    for char, freq in sorted_frequency:\n",
    "        print(f\"{char}: {freq:.4f}\")\n",
    "\n",
    "# 替换密文字母\n",
    "def decrypt(ciphertext, mapping):\n",
    "    plaintext = \"\"\n",
    "    for char in ciphertext:\n",
    "        if char.isalpha():\n",
    "            if char.isupper():\n",
    "                plaintext += mapping.get(char, char)\n",
    "            else:\n",
    "                plaintext += mapping.get(char, char).lower()\n",
    "        else:\n",
    "            plaintext += char\n",
    "    return plaintext"
   ]
  },
  {
   "cell_type": "code",
   "execution_count": 2,
   "metadata": {},
   "outputs": [
    {
     "name": "stdout",
     "output_type": "stream",
     "text": [
      "P: 0.1333\n",
      "Z: 0.1167\n",
      "U: 0.0833\n",
      "S: 0.0833\n",
      "O: 0.0750\n",
      "M: 0.0667\n",
      "H: 0.0583\n",
      "E: 0.0500\n",
      "D: 0.0500\n",
      "V: 0.0417\n",
      "X: 0.0417\n",
      "W: 0.0333\n",
      "F: 0.0333\n",
      "Q: 0.0250\n",
      "T: 0.0250\n",
      "G: 0.0167\n",
      "B: 0.0167\n",
      "A: 0.0167\n",
      "Y: 0.0167\n",
      "I: 0.0083\n",
      "J: 0.0083\n"
     ]
    }
   ],
   "source": [
    "ciphertext = \"UZ QSO VUOHXMOPV GPOZPEVSG ZWSZ OPFPESX UDBMETSX AIZ VUEPHZ HMDZSHZO WSFP APPD TSVP QUZW \\\n",
    "YMXUZUHSX EPYEPOPDZSZUFPO MB ZWP FUPZ HMDJ UD TMOHMQ\"\n",
    "# 获得密文字母出现频率\n",
    "single_frequency = calculate_frequency(ciphertext)\n",
    "print_frequency(single_frequency)"
   ]
  },
  {
   "cell_type": "markdown",
   "metadata": {},
   "source": [
    "**Now Start Guessing**\n",
    "***统计词频如下***\n",
    "1. E\n",
    "2. TAOINSHR\n",
    "3. DL\n",
    "4. CUMWFGYPB\n",
    "5. VKJXQZ"
   ]
  },
  {
   "cell_type": "code",
   "execution_count": 3,
   "metadata": {},
   "outputs": [
    {
     "name": "stdout",
     "output_type": "stream",
     "text": [
      "UZ QSO VUOHXMOPV GPOZPEVSG ZWSZ OPFPESX UDBMETSX AIZ VUEPHZ HMDZSHZO WSFP APPD TSVP QUZW YMXUZUHSX EPYEPOPDZSZUFPO MB ZWP FUPZ HMDJ UD TMOHMQ\n"
     ]
    }
   ],
   "source": [
    "ciphertext = \"UZ QSO VUOHXMOPV GPOZPEVSG ZWSZ OPFPESX UDBMETSX AIZ VUEPHZ HMDZSHZO WSFP APPD TSVP QUZW YMXUZUHSX EPYEPOPDZSZUFPO MB ZWP FUPZ HMDJ UD TMOHMQ\"\n",
    "print(ciphertext)"
   ]
  },
  {
   "cell_type": "code",
   "execution_count": 4,
   "metadata": {},
   "outputs": [
    {
     "name": "stdout",
     "output_type": "stream",
     "text": [
      "UZ QSO VUOHXMOeV GeOZeEVSG ZWSZ OeFeESX UDBMETSX AIZ VUEeHZ HMDZSHZO WSFe AeeD TSVe QUZW YMXUZUHSX EeYEeOeDZSZUFeO MB ZWe FUeZ HMDJ UD TMOHMQ\n"
     ]
    }
   ],
   "source": [
    "# 我们先假设P替换为E\n",
    "ciphertext = decrypt(ciphertext, {'P': 'e'})\n",
    "print(ciphertext)"
   ]
  },
  {
   "cell_type": "code",
   "execution_count": 5,
   "metadata": {},
   "outputs": [
    {
     "name": "stdout",
     "output_type": "stream",
     "text": [
      "Ut QSO VUOHXMOeV GeOteEVSG tWSt OeFeESX UDBMETSX AIt VUEeHt HMDtSHtO WSFe AeeD TSVe QUtW YMXUtUHSX EeYEeOeDtStUFeO MB tWe FUet HMDJ UD TMOHMQ\n"
     ]
    }
   ],
   "source": [
    "# 由于目前还不清楚是否替换正确，继续将Z替换为t\n",
    "ciphertext = decrypt(ciphertext, {'Z': 't'})\n",
    "print(ciphertext)"
   ]
  },
  {
   "cell_type": "code",
   "execution_count": 6,
   "metadata": {},
   "outputs": [
    {
     "name": "stdout",
     "output_type": "stream",
     "text": [
      "Ut QSO VUOHXMOeV GeOteEVSG thSt OeFeESX UDBMETSX AIt VUEeHt HMDtSHtO hSFe AeeD TSVe QUth YMXUtUHSX EeYEeOeDtStUFeO MB the FUet HMDJ UD TMOHMQ\n"
     ]
    }
   ],
   "source": [
    "# 我们观察到tWe，考虑到the出现的概率较高，因此将W替换为h\n",
    "ciphertext = decrypt(ciphertext, {'W': 'h'})\n",
    "print(ciphertext)"
   ]
  },
  {
   "cell_type": "code",
   "execution_count": 7,
   "metadata": {},
   "outputs": [
    {
     "name": "stdout",
     "output_type": "stream",
     "text": [
      "Ut QaO VUOHXMOeV GeOteEVaG that OeFeEaX UDBMETaX AIt VUEeHt HMDtaHtO haFe AeeD TaVe QUth YMXUtUHaX EeYEeOeDtatUFeO MB the FUet HMDJ UD TMOHMQ\n"
     ]
    }
   ],
   "source": [
    "# 观察到thSt，想到that，将S替换为a\n",
    "ciphertext = decrypt(ciphertext, {'S': 'a'})\n",
    "print(ciphertext)"
   ]
  },
  {
   "cell_type": "code",
   "execution_count": 8,
   "metadata": {},
   "outputs": [
    {
     "name": "stdout",
     "output_type": "stream",
     "text": [
      "Ut QaO VUOHXMOeV GeOteEVaG that OeveEaX UDBMETaX AIt VUEeHt HMDtaHtO have AeeD TaVe QUth YMXUtUHaX EeYEeOeDtatUveO MB the vUet HMDJ UD TMOHMQ\n"
     ]
    }
   ],
   "source": [
    "# haFe  F->v\n",
    "ciphertext = decrypt(ciphertext, {'F': 'v'})\n",
    "print(ciphertext)"
   ]
  },
  {
   "cell_type": "code",
   "execution_count": 9,
   "metadata": {},
   "outputs": [
    {
     "name": "stdout",
     "output_type": "stream",
     "text": [
      "it waO ViOHXMOeV GeOteEVaG that OeveEaX iDBMETaX AIt ViEeHt HMDtaHtO have AeeD TaVe with YMXitiHaX EeYEeOeDtativeO MB the viet HMDJ iD TMOHMw\n"
     ]
    }
   ],
   "source": [
    "# QUth  Q->w U->i\n",
    "ciphertext = decrypt(ciphertext, {'Q': 'w'})\n",
    "ciphertext = decrypt(ciphertext, {'U': 'i'})\n",
    "print(ciphertext)"
   ]
  },
  {
   "cell_type": "code",
   "execution_count": 10,
   "metadata": {},
   "outputs": [
    {
     "name": "stdout",
     "output_type": "stream",
     "text": [
      "it was VisHXMseV GesteEVaG that seveEaX iDBMETaX AIt ViEeHt HMDtaHts have AeeD TaVe with YMXitiHaX EeYEeseDtatives MB the viet HMDJ iD TMsHMw\n"
     ]
    }
   ],
   "source": [
    "# waO O -> s\n",
    "ciphertext = decrypt(ciphertext, {'O': 's'})\n",
    "print(ciphertext)"
   ]
  },
  {
   "cell_type": "code",
   "execution_count": 11,
   "metadata": {},
   "outputs": [
    {
     "name": "stdout",
     "output_type": "stream",
     "text": [
      "it was VisHXMseV GesteEVaG that seveEaX inBMETaX bIt ViEeHt HMntaHts have been TaVe with YMXitiHaX EeYEesentatives MB the viet HMnJ in TMsHMw\n"
     ]
    }
   ],
   "source": [
    "# AeeD A -> b D -> n\n",
    "ciphertext = decrypt(ciphertext, {'A': 'b'})\n",
    "ciphertext = decrypt(ciphertext, {'D': 'n'})\n",
    "print(ciphertext)"
   ]
  },
  {
   "cell_type": "code",
   "execution_count": 12,
   "metadata": {},
   "outputs": [
    {
     "name": "stdout",
     "output_type": "stream",
     "text": [
      "it was disHXMsed GesteEdaG that seveEaX inBMEmaX bIt diEeHt HMntaHts have been made with YMXitiHaX EeYEesentatives MB the viet HMnJ in mMsHMw\n"
     ]
    }
   ],
   "source": [
    "# TaVe T -> m V -> d\n",
    "ciphertext = decrypt(ciphertext, {'T': 'm'})\n",
    "ciphertext = decrypt(ciphertext, {'V': 'd'})\n",
    "print(ciphertext)"
   ]
  },
  {
   "cell_type": "code",
   "execution_count": 13,
   "metadata": {},
   "outputs": [
    {
     "name": "stdout",
     "output_type": "stream",
     "text": [
      "it was disHlMsed GesterdaG that several inBMrmal bIt direHt HMntaHts have been made with YMlitiHal reYresentatives MB the viet HMnJ in mMsHMw\n"
     ]
    }
   ],
   "source": [
    "# seveEaX E -> r X -> l\n",
    "ciphertext = decrypt(ciphertext, {'E': 'r'})\n",
    "ciphertext = decrypt(ciphertext, {'X': 'l'})\n",
    "print(ciphertext)"
   ]
  },
  {
   "cell_type": "code",
   "execution_count": 14,
   "metadata": {},
   "outputs": [
    {
     "name": "stdout",
     "output_type": "stream",
     "text": [
      "it was disclMsed GesterdaG that several inBMrmal bIt direct cMntacts have been made with YMlitical reYresentatives MB the viet cMnJ in mMscMw\n"
     ]
    }
   ],
   "source": [
    "# direHt H -> c\n",
    "ciphertext = decrypt(ciphertext, {'H': 'c'})\n",
    "print(ciphertext)"
   ]
  },
  {
   "cell_type": "code",
   "execution_count": 15,
   "metadata": {},
   "outputs": [
    {
     "name": "stdout",
     "output_type": "stream",
     "text": [
      "it was disclosed GesterdaG that several inBormal bIt direct contacts have been made with Yolitical reYresentatives oB the viet conJ in moscow\n"
     ]
    }
   ],
   "source": [
    "# cMntacts M -> o\n",
    "ciphertext = decrypt(ciphertext, {'M': 'o'})\n",
    "print(ciphertext)"
   ]
  },
  {
   "cell_type": "code",
   "execution_count": 16,
   "metadata": {},
   "outputs": [
    {
     "name": "stdout",
     "output_type": "stream",
     "text": [
      "it was disclosed GesterdaG that several informal bIt direct contacts have been made with Yolitical reYresentatives of the viet conJ in moscow\n"
     ]
    }
   ],
   "source": [
    "# inBormal B -> f\n",
    "ciphertext = decrypt(ciphertext, {'B': 'f'})\n",
    "print(ciphertext)"
   ]
  },
  {
   "cell_type": "code",
   "execution_count": 17,
   "metadata": {},
   "outputs": [
    {
     "name": "stdout",
     "output_type": "stream",
     "text": [
      "it was disclosed yesterday that several informal bIt direct contacts have been made with Yolitical reYresentatives of the viet conJ in moscow\n"
     ]
    }
   ],
   "source": [
    "# GesterdaG G -> y\n",
    "ciphertext = decrypt(ciphertext, {'G': 'y'})\n",
    "print(ciphertext)"
   ]
  },
  {
   "cell_type": "code",
   "execution_count": 18,
   "metadata": {},
   "outputs": [
    {
     "name": "stdout",
     "output_type": "stream",
     "text": [
      "it was disclosed yesterday that several informal but direct contacts have been made with Yolitical reYresentatives of the viet conJ in moscow\n"
     ]
    }
   ],
   "source": [
    "# bIt I -> u\n",
    "ciphertext = decrypt(ciphertext, {'I': 'u'})\n",
    "print(ciphertext)"
   ]
  },
  {
   "cell_type": "code",
   "execution_count": 19,
   "metadata": {},
   "outputs": [
    {
     "name": "stdout",
     "output_type": "stream",
     "text": [
      "it was disclosed yesterday that several informal but direct contacts have been made with political representatives of the viet conJ in moscow\n"
     ]
    }
   ],
   "source": [
    "# Yolitical Y -> p\n",
    "ciphertext = decrypt(ciphertext, {'Y': 'p'})\n",
    "print(ciphertext)"
   ]
  },
  {
   "cell_type": "code",
   "execution_count": 20,
   "metadata": {},
   "outputs": [
    {
     "name": "stdout",
     "output_type": "stream",
     "text": [
      "it was disclosed yesterday that several informal but direct contacts have been made with political representatives of the viet cong in moscow\n"
     ]
    }
   ],
   "source": [
    "# conJ J -> g\n",
    "ciphertext = decrypt(ciphertext, {'J': 'g'})\n",
    "print(ciphertext)"
   ]
  },
  {
   "cell_type": "code",
   "execution_count": 21,
   "metadata": {},
   "outputs": [
    {
     "name": "stdout",
     "output_type": "stream",
     "text": [
      "解密完成： it was disclosed yesterday that several informal but direct contacts have been made with political representatives of the viet cong in moscow\n"
     ]
    }
   ],
   "source": [
    "print(\"解密完成：\", ciphertext)"
   ]
  }
 ],
 "metadata": {
  "kernelspec": {
   "display_name": "Python 3.8.2 64-bit",
   "language": "python",
   "name": "python3"
  },
  "language_info": {
   "codemirror_mode": {
    "name": "ipython",
    "version": 3
   },
   "file_extension": ".py",
   "mimetype": "text/x-python",
   "name": "python",
   "nbconvert_exporter": "python",
   "pygments_lexer": "ipython3",
   "version": "3.8.2"
  },
  "orig_nbformat": 4,
  "vscode": {
   "interpreter": {
    "hash": "6eaea64310228e9f754520128e4f9a6259bb26f5c3839fa5dce3903f5873b011"
   }
  }
 },
 "nbformat": 4,
 "nbformat_minor": 2
}
