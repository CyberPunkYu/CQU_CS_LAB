{
 "cells": [
  {
   "cell_type": "code",
   "execution_count": 6,
   "metadata": {},
   "outputs": [],
   "source": [
    "import numpy as np\n",
    "from scipy.spatial import Voronoi, voronoi_plot_2d\n",
    "\n",
    "import matplotlib.pyplot as plt\n",
    "from matplotlib.collections import LineCollection\n",
    "\n",
    "from ipywidgets import widgets\n",
    "from ipywidgets import interact, interact_manual, interactive"
   ]
  },
  {
   "cell_type": "code",
   "execution_count": 7,
   "metadata": {},
   "outputs": [],
   "source": [
    "x_bounds = np.array([0, 13])\n",
    "y_bounds = np.array([0, 16])\n",
    "\n",
    "x_buffer, y_buffer = 1, 1\n",
    "\n",
    "x_plot = x_bounds + np.array([x_buffer, -x_buffer])\n",
    "y_plot = y_bounds + np.array([y_buffer, -y_buffer])"
   ]
  },
  {
   "cell_type": "code",
   "execution_count": null,
   "metadata": {},
   "outputs": [],
   "source": []
  },
  {
   "cell_type": "code",
   "execution_count": 8,
   "metadata": {},
   "outputs": [
    {
     "data": {
      "application/vnd.jupyter.widget-view+json": {
       "model_id": "77523ca53d7d4539a0380e830c212c89",
       "version_major": 2,
       "version_minor": 0
      },
      "text/plain": [
       "interactive(children=(IntSlider(value=200, description='num_points', max=1000, min=10, step=25), FloatSlider(v…"
      ]
     },
     "metadata": {},
     "output_type": "display_data"
    }
   ],
   "source": [
    "def make_some_art(num_points=200, percent_to_fill = 0.5, n_fill_lines=5, min_scalar = 0.1,  debug=False, toggle_for_new=False):\n",
    "    \n",
    "    x = np.random.uniform(*x_bounds, size=num_points).reshape((num_points, 1))\n",
    "    y = np.random.uniform(*y_bounds, size=num_points).reshape((num_points, 1))\n",
    "    pts = np.hstack([x, y])\n",
    "    \n",
    "    vor = Voronoi(pts)\n",
    "    verts = vor.vertices\n",
    "    shapes_ind = vor.regions\n",
    "    \n",
    "    shapes_ind = [s+s[0:1] for s in shapes_ind if len(s)>0 and -1 not in s]\n",
    "    shapes = [verts[s] for s in shapes_ind]\n",
    "    \n",
    "    n_shapes_to_fill = int(percent_to_fill*len(shapes))\n",
    "    shapes_to_fill = np.random.choice(shapes, size=n_shapes_to_fill, replace=False)\n",
    "    \n",
    "    fill = []\n",
    "    \n",
    "    for s in shapes_to_fill:\n",
    "        center = np.mean(s, axis=0)\n",
    "        for scaler in np.linspace(min_scalar, 1, num=n_fill_lines, endpoint=False):\n",
    "            scaled = scaler*(s - center) + center\n",
    "            fill.append(scaled)\n",
    "\n",
    "    \n",
    "    fig, ax = plt.subplots(figsize=(20,20))\n",
    "    ax.set_aspect('equal')\n",
    "    \n",
    "    if not debug:\n",
    "        plt.grid(False)\n",
    "        plt.axis('off')\n",
    "\n",
    "    \n",
    "    ax.set_xlim(*x_plot)\n",
    "    ax.set_ylim(*y_plot)\n",
    "    lc = LineCollection(shapes+fill)\n",
    "    ax.add_collection(lc)\n",
    "    \n",
    "    return fig, ax\n",
    "    \n",
    "w = interactive(make_some_art,\n",
    "                num_points=(10,1000,25),\n",
    "                percent_to_fill=(0., 1., 0.05),\n",
    "                n_fill_lines=(1, 20, 1),\n",
    "                min_scalar=(0,1,0.01))\n",
    "display(w)"
   ]
  },
  {
   "cell_type": "code",
   "execution_count": 9,
   "metadata": {},
   "outputs": [],
   "source": [
    "fig, ax = w.result"
   ]
  },
  {
   "cell_type": "code",
   "execution_count": 10,
   "metadata": {},
   "outputs": [],
   "source": [
    "fig.savefig('my_super_cool_art.png', bbox_inches = 'tight', pad_inches = 0)"
   ]
  },
  {
   "cell_type": "code",
   "execution_count": null,
   "metadata": {},
   "outputs": [],
   "source": []
  },
  {
   "cell_type": "code",
   "execution_count": null,
   "metadata": {},
   "outputs": [],
   "source": []
  }
 ],
 "metadata": {
  "kernelspec": {
   "display_name": "Python 3.8.2 64-bit",
   "language": "python",
   "name": "python3"
  },
  "language_info": {
   "codemirror_mode": {
    "name": "ipython",
    "version": 3
   },
   "file_extension": ".py",
   "mimetype": "text/x-python",
   "name": "python",
   "nbconvert_exporter": "python",
   "pygments_lexer": "ipython3",
   "version": "3.8.2"
  },
  "vscode": {
   "interpreter": {
    "hash": "6eaea64310228e9f754520128e4f9a6259bb26f5c3839fa5dce3903f5873b011"
   }
  }
 },
 "nbformat": 4,
 "nbformat_minor": 4
}
