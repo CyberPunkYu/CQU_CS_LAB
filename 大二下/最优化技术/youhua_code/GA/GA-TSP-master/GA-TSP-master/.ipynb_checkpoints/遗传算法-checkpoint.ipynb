{
 "cells": [
  {
   "cell_type": "markdown",
   "metadata": {},
   "source": [
    "# 采用遗传算法解决10城市TSP问题\n",
    "10城市坐标为：\n",
    "- 1： (41, 94)；\n",
    "- 2： (37, 84)；\n",
    "- 3： (54, 67)；\n",
    "- 4： (25, 62)；\n",
    "- 5： (7, 64)；\n",
    "- 6： (2, 99)；\n",
    "- 7： (68, 58)；\n",
    "- 8： (71, 44)；\n",
    "- 9： (54, 62)；\n",
    "- 10： (83, 69)\n",
    "\n",
    "## 思考：\n",
    "\n",
    "- 遗传算法求解问题的性能与哪些因素有关？\n",
    "- 遗传算法的缺陷有哪些？\n",
    "- 有何改进措施？\n"
   ]
  },
  {
   "cell_type": "code",
   "execution_count": 1,
   "metadata": {},
   "outputs": [],
   "source": [
    "import numpy as np\n",
    "import  random\n",
    "import matplotlib.pyplot as plt\n",
    "%matplotlib inline"
   ]
  },
  {
   "cell_type": "markdown",
   "metadata": {},
   "source": [
    "# 1. 获取临接矩阵"
   ]
  },
  {
   "cell_type": "code",
   "execution_count": 2,
   "metadata": {},
   "outputs": [],
   "source": [
    "def CacDistance(a,b):\n",
    "    \"\"\"\n",
    "    计算两点之间的距离\n",
    "    \"\"\"\n",
    "    a = np.array(a)\n",
    "    b = np.array(b)\n",
    "    c = a-b\n",
    "    distance = np.sqrt(np.sum(c*c))\n",
    "    return distance\n",
    "\n",
    "def CityDistance():\n",
    "    \"\"\"\n",
    "    获取临接矩阵\n",
    "    \"\"\"\n",
    "    locs = [(41, 94),(37, 84),(54, 67),(25, 62),(7, 64),(2, 99),(68, 58),(71, 44),(54, 62),(83, 69)]\n",
    "    n = len(locs)\n",
    "\n",
    "    dis_mat = np.zeros([10,10])\n",
    "    for i in range(n-1):\n",
    "        for j in range(i+1,n):\n",
    "            dist = CacDistance(locs[i],locs[j])\n",
    "            dis_mat[i,j] = dist\n",
    "\n",
    "    for i in range(n):\n",
    "        dis_mat[:,i] = dis_mat[i,:]\n",
    "\n",
    "    return dis_mat"
   ]
  },
  {
   "cell_type": "markdown",
   "metadata": {},
   "source": [
    "# 2. 遗传算法"
   ]
  },
  {
   "cell_type": "markdown",
   "metadata": {},
   "source": [
    "## 2.1交叉"
   ]
  },
  {
   "cell_type": "code",
   "execution_count": 3,
   "metadata": {},
   "outputs": [],
   "source": [
    "def Cross(p1,p2):\n",
    "    a = np.array(p1).copy()\n",
    "    b = np.array(p2).copy()\n",
    "\n",
    "    # 0~9之间随机生成两个整数,作为映射的起始点和结束点\n",
    "    begin = random.randint(0,9)\n",
    "    end = random.randint(0,9)\n",
    "    # 使 begin 小于 end\n",
    "    if begin > end:\n",
    "        temp = begin\n",
    "        begin = end\n",
    "        end = temp\n",
    "\n",
    "    #print begin,end\n",
    "    # 建立映射关系\n",
    "    cross_map = {}\n",
    "    is_exist = False\n",
    "    # 初步映射\n",
    "    for i in range(begin,end+1):\n",
    "        if a[i] not in cross_map.keys():\n",
    "            cross_map[a[i]] = []\n",
    "        if b[i] not in cross_map.keys():\n",
    "            cross_map[b[i]] = []\n",
    "\n",
    "        cross_map[a[i]].append(b[i])\n",
    "        cross_map[b[i]].append(a[i])\n",
    "\n",
    "\n",
    "    # 处理传递映射 如1:[6],6:[3,1]-->1:[6,3,1],6:[3,1]\n",
    "    # 计算子串中元素出现的个数，个数为2，则该元素为传递的中间结点，如如1:[6],6:[3,1],‘6’出现的次数为2\n",
    "    appear_times = {}\n",
    "    for i in range(begin,end+1):\n",
    "        if a[i] not in appear_times.keys():\n",
    "            appear_times[a[i]] = 0\n",
    "        if b[i] not in appear_times.keys():\n",
    "            appear_times[b[i]] = 0\n",
    "\n",
    "        appear_times[a[i]] += 1\n",
    "        appear_times[b[i]] += 1\n",
    "\n",
    "        if a[i] == b[i]:\n",
    "            appear_times[a[i]] -= 1\n",
    "\n",
    "\n",
    "    for k,v in appear_times.items():\n",
    "        if v == 2:\n",
    "            values = cross_map[k]\n",
    "            for key in values:\n",
    "                cross_map[key].extend(values)\n",
    "                cross_map[key].append(k)\n",
    "                cross_map[key].remove(key)\n",
    "                cross_map[key] = list(set(cross_map[key]))\n",
    "\n",
    "\n",
    "    # 使用映射关系交叉\n",
    "    # 先映射选中的子串\n",
    "    temp = a[begin:end+1].copy()\n",
    "    a[begin:end+1] = b[begin:end+1]\n",
    "    b[begin:end+1] = temp\n",
    "\n",
    "    # 根据映射规则映射剩下的子串\n",
    "    seg_a = a[begin:end+1]\n",
    "    seg_b = b[begin:end+1]\n",
    "\n",
    "    remain = list(range(begin))\n",
    "    remain.extend(range(end+1,len(a)))\n",
    "\n",
    "    for i in remain:\n",
    "        keys = cross_map.keys()\n",
    "        if a[i] in keys:\n",
    "            for fi in cross_map[a[i]]:\n",
    "                if fi not in seg_a:\n",
    "                    a[i] = fi\n",
    "                    break\n",
    "\n",
    "        if b[i] in keys:\n",
    "            for fi in cross_map[b[i]]:\n",
    "                if fi not in seg_b:\n",
    "                    b[i] = fi\n",
    "                    break\n",
    "\n",
    "    return a,b            "
   ]
  },
  {
   "cell_type": "markdown",
   "metadata": {},
   "source": [
    "## 2.2 变异"
   ]
  },
  {
   "cell_type": "code",
   "execution_count": 4,
   "metadata": {},
   "outputs": [],
   "source": [
    "def Variation(s):\n",
    "    c = range(10)\n",
    "    index1,index2 = random.sample(c,2)\n",
    "    temp = s[index1]\n",
    "    s[index1] = s[index2]\n",
    "    s[index2] = temp\n",
    "    return s"
   ]
  },
  {
   "cell_type": "markdown",
   "metadata": {},
   "source": [
    "## 2.3 计算适应度"
   ]
  },
  {
   "cell_type": "code",
   "execution_count": 5,
   "metadata": {},
   "outputs": [],
   "source": [
    "def cost(s):\n",
    "    dis = CityDistance()\n",
    "    n = len(s)\n",
    "    cost = 0\n",
    "    for i in range(n):\n",
    "        cost += dis[s[i],s[(i+1)%n]]\n",
    "    return -cost"
   ]
  },
  {
   "cell_type": "markdown",
   "metadata": {},
   "source": [
    "## 2.4 构建遗传算法"
   ]
  },
  {
   "cell_type": "code",
   "execution_count": 6,
   "metadata": {},
   "outputs": [],
   "source": [
    "# 获取列表的第三个元素\n",
    "def TakeThird(elem):\n",
    "    \"\"\"\n",
    "    按适应度从大到小，排序时作为sort的key参数\n",
    "    \"\"\"\n",
    "    return elem[2]\n",
    "\n",
    "def CacAdap(population):\n",
    "    \"\"\"\n",
    "    # adap n*4,n为行数，每行包括：个体下标,适应度,选择概率,累积概率\n",
    "    \"\"\"\n",
    "    # 计算每一个个体的适应度,选择概率\n",
    "    adap = []\n",
    "    psum = 0\n",
    "    # 计算适应度\n",
    "    i = 0\n",
    "    for p in population:\n",
    "        icost = np.exp(cost(p))\n",
    "        psum += icost\n",
    "        # 添加个体下标\n",
    "        adap.append([i])\n",
    "        # 添加适应度\n",
    "        adap[i].append(icost)\n",
    "        i += 1\n",
    "    # 计算选择概率\n",
    "    for p in adap:\n",
    "        # 添加选择概率和累积概率，这里累积概率暂时等于选择概率，后面会重新计算赋值\n",
    "        p.append(p[1]/psum)\n",
    "        p.append(p[2])\n",
    "\n",
    "    # 根据适应度从大到小排序\n",
    "    adap.sort(key=TakeThird,reverse=True)\n",
    "    #print adap\n",
    "    # 计算累计概率\n",
    "    n = len(adap)\n",
    "    for i in range(1,n):\n",
    "        p = adap[i][3] + adap[i-1][3]\n",
    "        adap[i][3] = p\n",
    "    \n",
    "    return adap\n",
    "\n",
    "def Chose(adap):\n",
    "    \"\"\"\n",
    "    轮盘选择操作\n",
    "    \"\"\"\n",
    "    chose = []\n",
    "    # 选择次数\n",
    "    epochs = 20 #max(len(adap)/2,20)\n",
    "    #while(len(set(chose)) <2):\n",
    "    #print 'chosing...length %d'%len(set(chose))\n",
    "    n = len(adap)\n",
    "    for a in range(epochs):\n",
    "        p = random.random()\n",
    "        if adap[0][3] >= p:\n",
    "            chose.append(adap[0][0])\n",
    "        else:\n",
    "            for i in range(1,n):\n",
    "                if adap[i][3] >= p and adap[i-1][3] < p:\n",
    "                    chose.append(adap[i][0])\n",
    "                    break\n",
    "\n",
    "    chose = list((chose))\n",
    "    return chose\n",
    "\n",
    "def Cross_Variation(chose,population):\n",
    "    \"\"\"\n",
    "    交叉变异操作\n",
    "    \"\"\"\n",
    "    # 交叉率\n",
    "    p_c = 0.7\n",
    "    # 变异率\n",
    "    p_m = 0.3\n",
    "    # 交叉变异操作\n",
    "    chose_num = len(chose)\n",
    "    sample_times = chose_num//2\n",
    "    for i in range(sample_times):\n",
    "        index1,index2 = random.sample(chose,2)\n",
    "        #print index1,index2\n",
    "        # 参与交叉的父结点\n",
    "        parent1 = population[index1]\n",
    "        parent2 = population[index2]\n",
    "        # 这两个父结点已经交叉，后面就不要参与了，就像这两个人以及结婚，按规矩不能在与其他人结婚了，故从采样样本中移除\n",
    "        chose.remove(index1)\n",
    "        chose.remove(index2)\n",
    "        \n",
    "        p = random.random()\n",
    "        if p_c >= p:\n",
    "            child1,child2 = Cross(parent1,parent2)\n",
    "            #print child1,child2\n",
    "            p1 = random.random()\n",
    "            p2 = random.random()\n",
    "            if p_m > p1:\n",
    "                child1 = Variation(child1)\n",
    "            if p_m > p2:\n",
    "                child2 = Variation(child2)\n",
    "            population.append(list(child1))\n",
    "            population.append(list(child2))\n",
    "    return population"
   ]
  },
  {
   "cell_type": "code",
   "execution_count": 7,
   "metadata": {},
   "outputs": [],
   "source": [
    "def GA(population):\n",
    "    \"\"\"\n",
    "    一次遗传过程\n",
    "    \"\"\"\n",
    "    \n",
    "    adap = CacAdap(population)\n",
    "\n",
    "    # 选择操作\n",
    "    chose = Chose(adap)\n",
    "    # 交叉变异\n",
    "    population = Cross_Variation(chose,population)\n",
    "        \n",
    "\n",
    "    return population"
   ]
  },
  {
   "cell_type": "markdown",
   "metadata": {},
   "source": [
    "## 2.5 循环调用遗传算法，直到达到终止条件"
   ]
  },
  {
   "cell_type": "code",
   "execution_count": 8,
   "metadata": {},
   "outputs": [],
   "source": [
    "def find_min(population):\n",
    "    loss = []\n",
    "    # 遗传次数\n",
    "    epochs = 51\n",
    "    i = 0\n",
    "    while i < epochs:\n",
    "        adap = []\n",
    "        # 计算适应度\n",
    "        for p in population:\n",
    "            icost = cost(p)\n",
    "            adap.append(icost)\n",
    "        \n",
    "        # 使用遗传算法更新种群\n",
    "        population = GA(population)\n",
    "        \n",
    "        min_cost = max(adap)\n",
    "        if i%10 == 0:\n",
    "            print('epoch %d: loss=%.2f'%(i,-min_cost))\n",
    "        loss.append([i,-min_cost])\n",
    "        i += 1\n",
    "        if i == epochs:\n",
    "            # 输出最优解\n",
    "            p_len = len(population)\n",
    "            for index in range(p_len):\n",
    "                if adap[index] == min_cost:\n",
    "                    print('最优路径:')\n",
    "                    print(population[index])\n",
    "                    print('代价大小:')\n",
    "                    print(-min_cost)\n",
    "                    break\n",
    "    # 打印损失函数变换\n",
    "    loss = np.array(loss)\n",
    "    plt.plot(loss[:,0],loss[:,1])\n",
    "    plt.title('GA')\n",
    "    plt.show()\n",
    "    "
   ]
  },
  {
   "cell_type": "code",
   "execution_count": 9,
   "metadata": {},
   "outputs": [
    {
     "name": "stdout",
     "output_type": "stream",
     "text": [
      "epoch 0: loss=313.19\n",
      "epoch 10: loss=288.08\n",
      "epoch 20: loss=287.01\n",
      "epoch 30: loss=242.23\n",
      "epoch 40: loss=242.23\n",
      "epoch 50: loss=242.23\n",
      "最优路径:\n",
      "[1, 5, 4, 3, 2, 8, 6, 7, 9, 0]\n",
      "代价大小:\n",
      "242.22947014727632\n"
     ]
    },
    {
     "data": {
      "image/png": "[encoded data removed]",
      "text/plain": [
       "<Figure size 432x288 with 1 Axes>"
      ]
     },
     "metadata": {
      "needs_background": "light"
     },
     "output_type": "display_data"
    }
   ],
   "source": [
    "# 初始化\n",
    "s1 = [1,2,3,4,5,6,7,8,9,0]\n",
    "s2 = [5,4,6,9,2,1,7,8,3,0]\n",
    "s3 = [0,1,2,3,7,8,9,4,5,6]\n",
    "s4 = [1,2,3,4,5,7,6,8,9,0]\n",
    "population = [s1,s2,s3,s4]\n",
    "# 调用\n",
    "find_min(population)"
   ]
  },
  {
   "cell_type": "code",
   "execution_count": null,
   "metadata": {},
   "outputs": [],
   "source": []
  },
  {
   "cell_type": "code",
   "execution_count": null,
   "metadata": {},
   "outputs": [],
   "source": []
  }
 ],
 "metadata": {
  "kernelspec": {
   "display_name": "Python 3",
   "language": "python",
   "name": "python3"
  },
  "language_info": {
   "codemirror_mode": {
    "name": "ipython",
    "version": 3
   },
   "file_extension": ".py",
   "mimetype": "text/x-python",
   "name": "python",
   "nbconvert_exporter": "python",
   "pygments_lexer": "ipython3",
   "version": "3.7.0"
  }
 },
 "nbformat": 4,
 "nbformat_minor": 2
}
